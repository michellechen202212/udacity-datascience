{
  "nbformat": 4,
  "nbformat_minor": 0,
  "metadata": {
    "colab": {
      "provenance": [],
      "authorship_tag": "ABX9TyPrM2PKXJz9PV/YQXgah2Q7",
      "include_colab_link": true
    },
    "kernelspec": {
      "name": "python3",
      "display_name": "Python 3"
    },
    "language_info": {
      "name": "python"
    }
  },
  "cells": [
    {
      "cell_type": "markdown",
      "metadata": {
        "id": "view-in-github",
        "colab_type": "text"
      },
      "source": [
        "<a href=\"https://colab.research.google.com/github/michellechen202212/udacity-datascience/blob/main/blogPost.ipynb\" target=\"_parent\"><img src=\"https://colab.research.google.com/assets/colab-badge.svg\" alt=\"Open In Colab\"/></a>"
      ]
    },
    {
      "cell_type": "markdown",
      "source": [
        "## Project: Data Science Blog Post\n",
        "\n",
        "This notebook is part of a Data Science Blog Post project and leverages the CRISP-DM framework to analyze the [Business Formation Statistics Weekly Data](https://www.census.gov/econ/bfs/csv/bfs_us_apps_weekly_nsa.csv). It provides a comprehensive exploration of the dataset, addressing key business-related questions and uncovering actionable insights.\n",
        "\n",
        "###Key Components:\n",
        "\n",
        "**Introduction:**\n",
        "This project tackles specific business-focused questions by identifying important features, uncovering creative insights, and exploring predictions in hypothetical scenarios using data science methodologies.\n",
        "\n",
        "**Business Understanding:**\n",
        "The dataset offers valuable insights into U.S. entrepreneurial activity, helping stakeholders like economists and policymakers monitor trends and assess the economic landscape.\n",
        "\n",
        "**Data Understanding: **\n",
        "Features such as HBA_NSA (High-Propensity Applications), Year, and WBA_NSA (Applications with Planned Wages) are analyzed for their impact on predicting total business activity. These features are classified into categories based on their influence (major, moderate, or secondary).\n",
        "\n",
        "**Exploratory Analysis and Feature Insights:**\n",
        "Key drivers such as HBA_NSA and Year are highlighted for their significant role in predictions. Seasonal and annual trends are explored to add further context to business application patterns.\n",
        "\n",
        "**Modeling and Predictions:**\n",
        "The notebook evaluates model performance in both average and hypothetical scenarios:\n",
        "\n",
        "Linear Regression: Shows high sensitivity to feature changes, making it effective for simple linear relationships.\n",
        "Random Forest: Captures complex, non-linear interactions, offering balanced and realistic predictions.\n",
        "\n",
        "### Questions Addressed:\n",
        "\n",
        "**Feature Importance:**\n",
        "What are the most significant features in the dataset, what do they represent, and how do they influence the predictions?\n",
        "\n",
        "**Creative Insights:**\n",
        "What unique or creative insights can be derived from the dataset?\n",
        "\n",
        "**Model Accuracy:**\n",
        "How accurate is the trained model in predicting the outcomes?\n",
        "\n",
        "**Predictive Scenarios:**\n",
        "What would happen in a creative predictive scenario using the trained model?\n"
      ],
      "metadata": {
        "id": "MnS6uclCqbVl"
      }
    },
    {
      "cell_type": "markdown",
      "source": [
        "## Business Understanding:"
      ],
      "metadata": {
        "id": "mA8ZwNBDPHoa"
      }
    },
    {
      "cell_type": "markdown",
      "source": [
        "The Business Formation Statistics (BFS) Weekly Data tracks trends in business applications across national, regional, and state levels, providing critical insights into U.S. entrepreneurial activity. Reviewed under strict data integrity and confidentiality standards, this dataset transitioned to monthly releases in September 2024, consolidating weekly estimates for improved accessibility. By analyzing Not Seasonally Adjusted Business Applications, the data offers near-real-time monitoring of economic trends, policy impacts, and regional business growth. Economists, policymakers, and analysts can leverage this resource to assess the health of the business ecosystem, forecast economic outcomes, and shape strategies to support entrepreneurship and economic development nationwide.\n"
      ],
      "metadata": {
        "id": "Hgk5zxidItL5"
      }
    },
    {
      "cell_type": "markdown",
      "source": [
        "##Data Understanding:\n",
        "The dataset features are clearly described, including HBA_NSA, WBA_NSA, and others, along with their significance."
      ],
      "metadata": {
        "id": "WEBuE4s2PM7A"
      }
    },
    {
      "cell_type": "markdown",
      "source": [
        "\n",
        "## Modularized Predictive Modeling Notebook\n",
        "\n",
        "This notebook demonstrates a modular approach to predictive modeling using the provided dataset.\n",
        "It includes separate functions for data loading, preparation, training, evaluation, and visualization.\n"
      ],
      "metadata": {
        "id": "2miEep2S9ESS"
      }
    },
    {
      "cell_type": "code",
      "source": [
        "import pandas as pd\n",
        "\n",
        "class DataLoader:\n",
        "    \"\"\"\n",
        "    Class for loading the dataset.\n",
        "    \"\"\"\n",
        "    def __init__(self, file_path):\n",
        "        self.file_path = file_path\n",
        "\n",
        "    def load_data(self):\n",
        "        \"\"\"\n",
        "        Loads the dataset from the given file path.\n",
        "\n",
        "        Returns:\n",
        "        - pd.DataFrame: Loaded dataset.\n",
        "        \"\"\"\n",
        "        try:\n",
        "            data = pd.read_csv(self.file_path)\n",
        "            print(f\"Data loaded successfully from {self.file_path}\")\n",
        "            return data\n",
        "        except FileNotFoundError:\n",
        "            print(f\"File not found: {self.file_path}\")\n",
        "            return None\n",
        "\n",
        "class DataAnalyzer:\n",
        "    \"\"\"\n",
        "    Class for analyzing the dataset.\n",
        "    \"\"\"\n",
        "    def __init__(self, data, target_column):\n",
        "        self.data = data\n",
        "        self.target_column = target_column\n",
        "\n",
        "    def analyze_data(self):\n",
        "        \"\"\"\n",
        "        Analyzes the dataset and displays basic information, missing values,\n",
        "        and summary statistics.\n",
        "\n",
        "        Returns:\n",
        "        - X (pd.DataFrame): Features (independent variables).\n",
        "        - y (pd.Series): Target variable (dependent variable).\n",
        "        \"\"\"\n",
        "        # Dataset Information\n",
        "        print(\"Dataset Information:\")\n",
        "        print(self.data.info())\n",
        "        print(\"\\nDataset Shape:\", self.data.shape)\n",
        "\n",
        "        # Check for Missing Values\n",
        "        missing_values = self.data.isnull().sum()\n",
        "        if missing_values.any():\n",
        "            print(\"\\nMissing Values:\")\n",
        "            print(missing_values[missing_values > 0])\n",
        "        else:\n",
        "            print(\"\\nNo missing values in the dataset.\")\n",
        "\n",
        "        # Summary Statistics (excluding the target column)\n",
        "        print(\"\\nSummary Statistics (excluding the target column):\")\n",
        "        print(self.data.drop(columns=[self.target_column]).describe())\n",
        "\n",
        "        # Separate Features and Target\n",
        "        X = self.data.drop(columns=[self.target_column])\n",
        "        y = self.data[self.target_column]\n",
        "        return X, y\n",
        "\n",
        "if __name__ == \"__main__\":\n",
        "    # Load dataset\n",
        "    file_path = 'sample_data/bfs_us_apps_weekly_nsa.csv'\n",
        "    loader = DataLoader(file_path)\n",
        "    data = loader.load_data()\n",
        "\n",
        "    if data is not None:\n",
        "        # Define target column\n",
        "        target_column = 'BA_NSA'\n",
        "\n",
        "        # Analyze dataset\n",
        "        analyzer = DataAnalyzer(data, target_column)\n",
        "        X, y = analyzer.analyze_data()\n",
        "\n",
        "        # Display features and target\n",
        "        print(\"\\nFeatures (X):\")\n",
        "        print(X.head())\n",
        "        print(\"\\nTarget (y):\")\n",
        "        print(y.head())\n"
      ],
      "metadata": {
        "colab": {
          "base_uri": "https://localhost:8080/"
        },
        "id": "Ktc8xg89AafQ",
        "outputId": "5a3f30c2-8b6c-4ddb-c435-a3b0d24b75f2"
      },
      "execution_count": null,
      "outputs": [
        {
          "output_type": "stream",
          "name": "stdout",
          "text": [
            "Data loaded successfully from sample_data/bfs_us_apps_weekly_nsa.csv\n",
            "Dataset Information:\n",
            "<class 'pandas.core.frame.DataFrame'>\n",
            "RangeIndex: 986 entries, 0 to 985\n",
            "Data columns (total 10 columns):\n",
            " #   Column      Non-Null Count  Dtype  \n",
            "---  ------      --------------  -----  \n",
            " 0   Year        986 non-null    int64  \n",
            " 1   Week        986 non-null    int64  \n",
            " 2   BA_NSA      986 non-null    int64  \n",
            " 3   HBA_NSA     986 non-null    int64  \n",
            " 4   WBA_NSA     986 non-null    int64  \n",
            " 5   CBA_NSA     986 non-null    int64  \n",
            " 6   YY_BA_NSA   932 non-null    float64\n",
            " 7   YY_HBA_NSA  932 non-null    float64\n",
            " 8   YY_WBA_NSA  932 non-null    float64\n",
            " 9   YY_CBA_NSA  932 non-null    float64\n",
            "dtypes: float64(4), int64(6)\n",
            "memory usage: 77.2 KB\n",
            "None\n",
            "\n",
            "Dataset Shape: (986, 10)\n",
            "\n",
            "Missing Values:\n",
            "YY_BA_NSA     54\n",
            "YY_HBA_NSA    54\n",
            "YY_WBA_NSA    54\n",
            "YY_CBA_NSA    54\n",
            "dtype: int64\n",
            "\n",
            "Summary Statistics (excluding the target column):\n",
            "              Year        Week       HBA_NSA       WBA_NSA       CBA_NSA  \\\n",
            "count   986.000000  986.000000    986.000000    986.000000    986.000000   \n",
            "mean   2014.955375   26.456389  26122.494929  11166.774848  11764.807302   \n",
            "std       5.459964   15.000529   6104.817193   3073.913781   2550.989420   \n",
            "min    2006.000000    1.000000   1870.000000   1200.000000   1010.000000   \n",
            "25%    2010.000000   13.250000  22042.500000   9340.000000  10420.000000   \n",
            "50%    2015.000000   26.000000  25240.000000  10600.000000  11430.000000   \n",
            "75%    2020.000000   39.000000  30332.500000  12152.500000  12800.000000   \n",
            "max    2024.000000   53.000000  46660.000000  28820.000000  26000.000000   \n",
            "\n",
            "        YY_BA_NSA  YY_HBA_NSA  YY_WBA_NSA  YY_CBA_NSA  \n",
            "count  932.000000  932.000000  932.000000  932.000000  \n",
            "mean     6.685258    3.190526   -0.242843    0.230891  \n",
            "std     35.845705   32.926674   30.218443   29.388493  \n",
            "min    -87.630000  -87.090000  -83.630000  -86.180000  \n",
            "25%     -3.932500   -6.275000   -9.142500   -8.110000  \n",
            "50%      2.615000    0.205000   -2.805000   -1.795000  \n",
            "75%      9.640000    6.660000    3.657500    4.362500  \n",
            "max    697.830000  638.500000  490.830000  565.350000  \n",
            "\n",
            "Features (X):\n",
            "   Year  Week  HBA_NSA  WBA_NSA  CBA_NSA  YY_BA_NSA  YY_HBA_NSA  YY_WBA_NSA  \\\n",
            "0  2006     1    22590    14960    12800        NaN         NaN         NaN   \n",
            "1  2006     2    23160    15840    14420        NaN         NaN         NaN   \n",
            "2  2006     3    37470    24480    21730        NaN         NaN         NaN   \n",
            "3  2006     4    30740    20270    17270        NaN         NaN         NaN   \n",
            "4  2006     5    35700    22820    19950        NaN         NaN         NaN   \n",
            "\n",
            "   YY_CBA_NSA  \n",
            "0         NaN  \n",
            "1         NaN  \n",
            "2         NaN  \n",
            "3         NaN  \n",
            "4         NaN  \n",
            "\n",
            "Target (y):\n",
            "0    39580\n",
            "1    36920\n",
            "2    63300\n",
            "3    51910\n",
            "4    61430\n",
            "Name: BA_NSA, dtype: int64\n"
          ]
        }
      ]
    },
    {
      "cell_type": "markdown",
      "source": [
        "\n",
        "### What are the most important features of the data set, what do they mean, and how do they drive the predicted outcome?\n",
        "\n",
        "**1. High-Propensity Applications (HBA_NSA)**\n",
        "- **What It Means**: Business applications likely to succeed, hire employees, and contribute to economic growth.\n",
        "- **How It Drives Predictions**: The most significant feature, heavily influencing predictions as these applications represent a large portion of total business activity.\n",
        "\n",
        "\n",
        "**2. Year**\n",
        "- **What It Means**: Tracks long-term economic trends such as booms or recessions.\n",
        "- **How It Drives Predictions**: A major driver, providing context for increases or decreases in business activity over time.\n",
        "\n",
        "\n",
        "**3. Applications with Planned Wages (WBA_NSA)**\n",
        "- **What It Means**: Indicates businesses planning to hire employees and establish payroll.\n",
        "- **How It Drives Predictions**: Moderately influences predictions by reflecting entrepreneurial confidence and labor market intentions.\n",
        "\n",
        "\n",
        "**4. Corporation Applications (CBA_NSA)**\n",
        "- **What It Means**: Applications to form corporations, representing larger and more formal business ventures.\n",
        "- **How It Drives Predictions**: Adds depth by highlighting trends in formalized business activity.\n",
        "\n",
        "**5. Yearly Changes (YY Metrics)**\n",
        "- **What It Means**: Tracks annual growth or decline in specific types of business applications.\n",
        "- **How It Drives Predictions**: Provides additional context for trends but has a smaller overall impact.\n",
        "\n",
        "\n",
        "**6. Week**\n",
        "- **What It Means**: Reflects seasonal patterns in business applications, such as busy periods at the start of the year.\n",
        "- **How It Drives Predictions**: Plays a minor role, fine-tuning predictions with seasonal trends.\n",
        "\n",
        "**Summary of Key Drivers**\n",
        "\n",
        "- **Major Influences**:  \n",
        "  - **HBA_NSA**: Dominates predictions due to its strong relationship with total business activity.  \n",
        "  - **Year**: Captures long-term economic trends, shaping the overall prediction.\n",
        "\n",
        "- **Moderate Influences**:  \n",
        "  - **WBA_NSA** and **CBA_NSA**: Add valuable details about hiring plans and formal business ventures.\n",
        "\n",
        "- **Secondary Influences**:  \n",
        "  - **YY Metrics** and **Week**: Provide additional nuance by capturing annual and seasonal trends but have less impact.\n",
        "\n",
        "By focusing on these key features, the model can provide accurate and meaningful predictions for total business applications.\n",
        "\n"
      ],
      "metadata": {
        "id": "tQCxYPZpfLVU"
      }
    },
    {
      "cell_type": "markdown",
      "source": [
        "## Data Preparation:\n",
        "\n",
        "**Data Cleaning and Missing Values Handling Strategy**\n",
        "- Numerical columns with missing values were imputed using the mean strategy. This approach is suitable for maintaining data consistency, especially when the missing values are not heavily skewed.\n",
        "- Alternative strategies, such as median imputation, could be used for skewed data, while KNN imputation may be considered for datasets with complex relationships between features.\n",
        "- For this dataset, the mean was chosen for its simplicity and effectiveness in maintaining the dataset's overall statistical properties.\n",
        "- This dataset does not contain any categorical data.\n"
      ],
      "metadata": {
        "id": "HM440PTSPwHz"
      }
    },
    {
      "cell_type": "code",
      "source": [
        "from sklearn.impute import SimpleImputer\n",
        "import pandas as pd\n",
        "\n",
        "class MissingValueHandler:\n",
        "    \"\"\"\n",
        "    A class to handle missing values in a dataset.\n",
        "    \"\"\"\n",
        "    def __init__(self, data, numerical_columns_with_na, target_column, threshold=0.8):\n",
        "        \"\"\"\n",
        "        Initializes the MissingValueHandler.\n",
        "\n",
        "        Args:\n",
        "        - data (pd.DataFrame): The dataset.\n",
        "        - numerical_columns_with_na (list): List of numerical columns with missing values.\n",
        "        - target_column (str): The name of the target column.\n",
        "        - threshold (float): The threshold for dropping columns (default is 0.8).\n",
        "        \"\"\"\n",
        "        if data is None or not isinstance(data, pd.DataFrame):\n",
        "          raise ValueError(\"The provided 'data' must be a valid pandas DataFrame.\")\n",
        "\n",
        "        self.data = data\n",
        "        self.numerical_columns_with_na = numerical_columns_with_na\n",
        "        self.target_column = target_column\n",
        "        self.threshold = threshold\n",
        "\n",
        "    def handle_missing_values(self):\n",
        "        \"\"\"\n",
        "        Processes the dataset to handle missing values by dropping rows/columns and imputing values.\n",
        "\n",
        "        Returns:\n",
        "        - pd.DataFrame: Cleaned feature dataset with missing values handled.\n",
        "        - pd.Series: Aligned target variable.\n",
        "        \"\"\"\n",
        "        # Drop rows with missing values\n",
        "        data_cleaned = self.data.dropna()\n",
        "\n",
        "        # Drop columns with a high percentage of missing values\n",
        "        data_cleaned = data_cleaned.dropna(axis=1, thresh=self.threshold * len(self.data))\n",
        "\n",
        "        # Impute missing values in numerical columns\n",
        "        imputer = SimpleImputer(strategy='mean')\n",
        "        data_cleaned[self.numerical_columns_with_na] = imputer.fit_transform(data_cleaned[self.numerical_columns_with_na])\n",
        "\n",
        "        # Align target variable with cleaned feature dataset\n",
        "        y_cleaned = data_cleaned[self.target_column]\n",
        "        data_cleaned = data_cleaned.drop(columns=[self.target_column])  # Remove target column from features\n",
        "\n",
        "        return data_cleaned, y_cleaned\n",
        "\n",
        "    def show_missing_values_summary(self):\n",
        "        \"\"\"\n",
        "        Displays the summary of missing values in the dataset.\n",
        "        \"\"\"\n",
        "        missing_values = self.data.isnull().sum()\n",
        "        if missing_values.any():\n",
        "            print(\"Missing Values Summary:\")\n",
        "            print(missing_values[missing_values > 0])\n",
        "        else:\n",
        "            print(\"No missing values in the dataset.\")\n",
        "\n",
        "\n",
        "if __name__ == \"__main__\":\n",
        "\n",
        "    # Define columns with missing values and the target column\n",
        "    numerical_columns_with_na = ['YY_BA_NSA', 'YY_HBA_NSA', 'YY_WBA_NSA', 'YY_CBA_NSA']\n",
        "    target_column = 'BA_NSA'\n",
        "\n",
        "    # Initialize the MissingValueHandler\n",
        "    handler = MissingValueHandler(data, numerical_columns_with_na, target_column)\n",
        "\n",
        "    # Show missing value summary\n",
        "    handler.show_missing_values_summary()\n",
        "\n",
        "    # Handle missing values\n",
        "    data_cleaned, y_cleaned = handler.handle_missing_values()\n",
        "\n",
        "    # Print cleaned data\n",
        "    print(data_cleaned.head())\n",
        "    print(y_cleaned.head())\n",
        "\n",
        "\n",
        "\n"
      ],
      "metadata": {
        "colab": {
          "base_uri": "https://localhost:8080/"
        },
        "id": "2DUmVT49B2Gk",
        "outputId": "876539fc-8ebe-4c94-91a2-d7232490fe57"
      },
      "execution_count": null,
      "outputs": [
        {
          "output_type": "stream",
          "name": "stdout",
          "text": [
            "Missing Values Summary:\n",
            "YY_BA_NSA     54\n",
            "YY_HBA_NSA    54\n",
            "YY_WBA_NSA    54\n",
            "YY_CBA_NSA    54\n",
            "dtype: int64\n",
            "    Year  Week  HBA_NSA  WBA_NSA  CBA_NSA  YY_BA_NSA  YY_HBA_NSA  YY_WBA_NSA  \\\n",
            "52  2007     1    24360    15840    14320       4.70        7.84        5.88   \n",
            "53  2007     2    10690     7110     6490     -52.28      -53.84      -55.11   \n",
            "54  2007     3    44800    28820    26000      17.79       19.56       17.73   \n",
            "55  2007     4    30390    19270    17120      -2.08       -1.14       -4.93   \n",
            "56  2007     5    35780    22250    19900      -0.33        0.22       -2.50   \n",
            "\n",
            "    YY_CBA_NSA  \n",
            "52       11.88  \n",
            "53      -54.99  \n",
            "54       19.65  \n",
            "55       -0.87  \n",
            "56       -0.25  \n",
            "52    41440\n",
            "53    17620\n",
            "54    74560\n",
            "55    50830\n",
            "56    61230\n",
            "Name: BA_NSA, dtype: int64\n"
          ]
        }
      ]
    },
    {
      "cell_type": "markdown",
      "source": [
        "###What unusual, or creative, insights are you able to gather from the data set?\n",
        "\n",
        "**1. Time Drives Business Trends**\n",
        "- **Observation**: The feature **Year** has the strongest impact, showing that long-term economic trends shape business activity more than short-term fluctuations.\n",
        "- **Insight**: Big-picture policies focusing on economic stability and growth are more effective than reactive short-term measures.\n",
        "\n",
        "**2. High-Propensity Applications Lead the Way**\n",
        "- **Observation**: Businesses with strong growth potential (HBA_NSA) dominate the dataset’s influence on total applications.\n",
        "- **Insight**: Supporting these businesses through targeted incentives or programs could maximize economic impact.\n",
        "\n",
        "**3. Seasonal Trends Matter**\n",
        "- **Observation**: The feature **Week** reveals minor seasonal variations, with quieter periods during certain times of the year.\n",
        "- **Insight**: Utilize these slower periods to launch promotional campaigns or entrepreneurship workshops.\n",
        "\n",
        "**4. Yearly Changes Show Surprises**\n",
        "- **Observation**: Year-over-Year (YY) metrics indicate that business trends don’t always grow or decline in a linear fashion.\n",
        "- **Insight**: External factors, like economic shocks or cultural shifts, can cause unexpected changes in entrepreneurial activity.\n",
        "\n",
        "**5. Applications with Planned Wages Reflect Optimism**\n",
        "- **Observation**: Businesses with planned wages (WBA_NSA) signal intent to hire and entrepreneurial confidence.\n",
        "- **Insight**: Regions with high WBA_NSA could become hotspots for future economic development and investment.\n",
        "\n",
        "**Key Takeaway**\n",
        "The dataset reveals actionable insights:  \n",
        "- Focus on long-term trends and policies.  \n",
        "- Support high-potential businesses for maximum economic growth.  \n",
        "- Leverage seasonal patterns and external changes to drive entrepreneurship during quiet periods or unexpected shifts.\n",
        "\n"
      ],
      "metadata": {
        "id": "jwnKgosxgtJl"
      }
    },
    {
      "cell_type": "markdown",
      "source": [
        "## Modeling:\n",
        "Linear Regression and Random Forest models are trained and compared with metrics such as MAE and R²."
      ],
      "metadata": {
        "id": "1BScwjAJPxtF"
      }
    },
    {
      "cell_type": "code",
      "source": [
        "import numpy as np\n",
        "import matplotlib.pyplot as plt\n",
        "from sklearn.ensemble import RandomForestRegressor\n",
        "from sklearn.linear_model import LinearRegression\n",
        "from sklearn.model_selection import train_test_split\n",
        "from sklearn.metrics import mean_absolute_error, r2_score, mean_squared_error\n",
        "\n",
        "class ModelTrainer:\n",
        "    \"\"\"\n",
        "    A class to train and evaluate machine learning models.\n",
        "    \"\"\"\n",
        "    def __init__(self, X_train, X_test, y_train, y_test):\n",
        "        \"\"\"\n",
        "        Initializes the ModelTrainer class.\n",
        "\n",
        "        Args:\n",
        "        - X_train, X_test, y_train, y_test: Training and testing datasets.\n",
        "        \"\"\"\n",
        "        self.X_train = X_train\n",
        "        self.X_test = X_test\n",
        "        self.y_train = y_train\n",
        "        self.y_test = y_test\n",
        "        self.metrics = {}\n",
        "        self.models = {}\n",
        "\n",
        "    def train_random_forest(self):\n",
        "        \"\"\"\n",
        "        Trains a Random Forest model and evaluates it.\n",
        "\n",
        "        Returns:\n",
        "        - None\n",
        "        \"\"\"\n",
        "        rf_model = RandomForestRegressor(random_state=42, n_estimators=100)\n",
        "        rf_model.fit(self.X_train, self.y_train)\n",
        "        y_pred_rf = rf_model.predict(self.X_test)\n",
        "        self.metrics['Random Forest'] = {\n",
        "            'MAE': mean_absolute_error(self.y_test, y_pred_rf),\n",
        "            'R2': r2_score(self.y_test, y_pred_rf),\n",
        "        }\n",
        "        self.models['Random Forest'] = rf_model\n",
        "\n",
        "    def train_linear_regression(self):\n",
        "        \"\"\"\n",
        "        Trains a Linear Regression model and evaluates it.\n",
        "\n",
        "        Returns:\n",
        "        - None\n",
        "        \"\"\"\n",
        "        lr_model = LinearRegression()\n",
        "        lr_model.fit(self.X_train, self.y_train)\n",
        "        y_pred_lr = lr_model.predict(self.X_test)\n",
        "        self.metrics['Linear Regression'] = {\n",
        "            'MAE': mean_absolute_error(self.y_test, y_pred_lr),\n",
        "            'R2': r2_score(self.y_test, y_pred_lr),\n",
        "            'MSE': mean_squared_error(self.y_test, y_pred_lr),\n",
        "        }\n",
        "        self.models['Linear Regression'] = lr_model\n",
        "\n",
        "    def get_metrics(self):\n",
        "        \"\"\"\n",
        "        Returns the performance metrics for the trained models.\n",
        "\n",
        "        Returns:\n",
        "        - dict: Performance metrics.\n",
        "        \"\"\"\n",
        "        return self.metrics\n",
        "\n",
        "    def get_models(self):\n",
        "        \"\"\"\n",
        "        Returns the trained models.\n",
        "\n",
        "        Returns:\n",
        "        - dict: Trained models.\n",
        "        \"\"\"\n",
        "        return self.models\n",
        "\n",
        "\n",
        "class ResultVisualizer:\n",
        "    \"\"\"\n",
        "    A class to visualize model performance metrics and predictions.\n",
        "    \"\"\"\n",
        "    @staticmethod\n",
        "    def visualize_metrics(metrics, models):\n",
        "        \"\"\"\n",
        "        Visualizes model performance metrics (MAE and R²).\n",
        "\n",
        "        Args:\n",
        "        - metrics (dict): Performance metrics for models.\n",
        "        - models (list): Model names.\n",
        "\n",
        "        Returns:\n",
        "        - None\n",
        "        \"\"\"\n",
        "        # Generate x positions for the models\n",
        "        x = np.arange(len(models))\n",
        "\n",
        "        # Extract MAE and R² values from the metrics\n",
        "        mae = [metrics[model]['MAE'] for model in models]\n",
        "        r2 = [metrics[model]['R2'] for model in models]\n",
        "\n",
        "        # Debugging: Ensure correct values are being extracted\n",
        "        print(\"MAE Values:\", mae)\n",
        "        print(\"R² Values:\", r2)\n",
        "\n",
        "        # Visualization: Model Performance Metrics (MAE and R²)\n",
        "        plt.figure(figsize=(10, 6))\n",
        "\n",
        "        # Bar plot for MAE\n",
        "        plt.bar(x - 0.2, mae, width=0.4, label='MAE', align='center', color='blue')\n",
        "\n",
        "        # Bar plot for R² (scaled for visibility)\n",
        "        plt.bar(x + 0.2, [val * 1000 for val in r2], width=0.4, label='R² (scaled by 1000)', align='center', color='orange')\n",
        "\n",
        "        # Add x-axis labels, title, and legend\n",
        "        plt.xticks(x, models)\n",
        "        plt.ylabel('Performance Metric Value')\n",
        "        plt.title('Model Performance Metrics: MAE and R² (Scaled)')\n",
        "        plt.legend()\n",
        "        plt.tight_layout()\n",
        "        plt.show()\n",
        "\n",
        "\n",
        "# Main workflow\n",
        "if __name__ == \"__main__\":\n",
        "    # Train and evaluate models\n",
        "    X_train, X_test, y_train, y_test = train_test_split(data_cleaned, y_cleaned, test_size=0.2, random_state=42)\n",
        "\n",
        "    trainer = ModelTrainer(X_train, X_test, y_train, y_test)\n",
        "    trainer.train_random_forest()\n",
        "    trainer.train_linear_regression()\n",
        "\n",
        "    # Get metrics and models\n",
        "    metrics = trainer.get_metrics()\n",
        "    print(metrics)\n",
        "\n",
        "    # Visualize the results\n",
        "    visualizer = ResultVisualizer()\n",
        "    visualizer.visualize_metrics(metrics, ['Linear Regression', 'Random Forest'])\n",
        "\n"
      ],
      "metadata": {
        "colab": {
          "base_uri": "https://localhost:8080/",
          "height": 680
        },
        "id": "-KGAK4s4qrvJ",
        "outputId": "51a5e94d-8a15-43fc-d5e2-11b694f37002"
      },
      "execution_count": null,
      "outputs": [
        {
          "output_type": "stream",
          "name": "stdout",
          "text": [
            "{'Random Forest': {'MAE': 1524.2443850267384, 'R2': 0.9906237341406902}, 'Linear Regression': {'MAE': 1366.6207237816727, 'R2': 0.9944849325338199, 'MSE': 3104968.5729345935}}\n",
            "MAE Values: [1366.6207237816727, 1524.2443850267384]\n",
            "R² Values: [0.9944849325338199, 0.9906237341406902]\n"
          ]
        },
        {
          "output_type": "display_data",
          "data": {
            "text/plain": [
              "<Figure size 1000x600 with 1 Axes>"
            ],
            "image/png": "[encoded data removed]"
          },
          "metadata": {}
        }
      ]
    },
    {
      "cell_type": "markdown",
      "source": [
        "###How accurate is the model that you have trained to predict the data in the data set?"
      ],
      "metadata": {
        "id": "wq0bwyQthx9E"
      }
    },
    {
      "cell_type": "markdown",
      "source": [
        "## Evaluation:\n",
        "Both models are evaluated using metrics and visualizations of actual vs. predicted values."
      ],
      "metadata": {
        "id": "k5g9Qe_VP6kW"
      }
    },
    {
      "cell_type": "markdown",
      "source": [
        "**Compare linear regression and random forest**"
      ],
      "metadata": {
        "id": "DG1LBNY7iJKI"
      }
    },
    {
      "cell_type": "markdown",
      "source": [
        "### How Accurate Is the Model That You Have Trained to Predict the Data in the Dataset?\n",
        "\n",
        "**Performance Comparison**\n",
        "- **Linear Regression**:  \n",
        "  - Slightly outperforms Random Forest in terms of **Mean Absolute Error (MAE)** and **R² (Explained Variance)**.  \n",
        "  - This suggests that the dataset is dominated by linear relationships, making Linear Regression a strong performer.  \n",
        "\n",
        "- **Random Forest**:  \n",
        "  - Performs well but is slightly less accurate than Linear Regression for this dataset.  \n",
        "  - Its strength lies in capturing complex, nonlinear interactions, which could be valuable in specific scenarios.  \n",
        "\n",
        "**Visualization Insights**\n",
        "- A comparison of **actual vs. predicted values** shows that both models closely follow actual trends.  \n",
        "- While Linear Regression may align more tightly with the data overall, Random Forest captures finer details that could impact its applicability in specific contexts.  \n",
        "\n",
        "**Predictive Scenario Impact**\n",
        "- In a scenario with significant changes (e.g., a 20% increase in High-Propensity Business Applications due to favorable policies):  \n",
        "  - **Linear Regression**: Produces an optimistic estimate due to its assumption of linear relationships.  \n",
        "  - **Random Forest**: Provides a more conservative prediction by accounting for nonlinear interactions and diminishing returns.\n",
        "\n",
        "**Key Takeaway**\n",
        "Both models are accurate in predicting trends in the dataset, with Linear Regression performing slightly better due to the dataset's linear nature. However, the choice of model depends on the context:  \n",
        "- Use **Linear Regression** for simpler, more optimistic predictions.  \n",
        "- Use **Random Forest** when nonlinear effects and realistic interpretations are crucial.\n",
        "\n",
        "\n",
        "\n"
      ],
      "metadata": {
        "id": "3oLKkDLZimkq"
      }
    },
    {
      "cell_type": "markdown",
      "source": [
        "## Deployment:\n",
        "A creative predictive scenario is implemented to showcase the application of the models."
      ],
      "metadata": {
        "id": "1pNDJcGXQAZ9"
      }
    },
    {
      "cell_type": "markdown",
      "source": [
        "### What Will Happen in a Creative Predictive Scenario Using the Trained Model?\n",
        "The following code simulates a creative scenario by predicting BA_NSA for a 20% increase in high-propensity business applications (HBA_NSA). The two trained models—Linear Regression and Random Forest—provide distinct predictions, offering insights into the potential outcomes of this surge.\n"
      ],
      "metadata": {
        "id": "RlOn6vVDLmve"
      }
    },
    {
      "cell_type": "code",
      "source": [
        "import joblib\n",
        "\n",
        "class ModelVisualizer:\n",
        "    \"\"\"\n",
        "    A class to visualize model performance and predictions.\n",
        "    \"\"\"\n",
        "    @staticmethod\n",
        "    def visualize_prediction_increase(average_increase, manual_increase, models):\n",
        "        \"\"\"\n",
        "        Visualizes the average and manual prediction increases for the models.\n",
        "        \"\"\"\n",
        "        plt.figure(figsize=(10, 6))\n",
        "        plt.bar(np.arange(len(models)) - 0.2, average_increase, width=0.4, label='Average Increase', align='center')\n",
        "        plt.bar(np.arange(len(models)) + 0.2, manual_increase, width=0.4, label='Manual Increase', align='center')\n",
        "        plt.xticks(np.arange(len(models)), models)\n",
        "        plt.ylabel('Increase in Predicted BA_NSA')\n",
        "        plt.title('Average vs Manual Increase in Predictions')\n",
        "        plt.legend()\n",
        "        plt.tight_layout()\n",
        "        plt.show()\n",
        "\n",
        "    @staticmethod\n",
        "    def visualize_model_performance(metrics, models):\n",
        "        \"\"\"\n",
        "        Visualizes model performance metrics (MAE and scaled R²).\n",
        "        \"\"\"\n",
        "        mae = [metrics[model]['MAE'] for model in models]\n",
        "        r2 = [metrics[model]['R2'] * 1000 for model in models]  # Scale R² for visualization\n",
        "\n",
        "        plt.figure(figsize=(10, 6))\n",
        "        plt.bar(np.arange(len(models)) - 0.2, mae, width=0.4, label='MAE', align='center', color='blue')\n",
        "        plt.bar(np.arange(len(models)) + 0.2, r2, width=0.4, label=f'R² (scaled by 1000)', align='center', color='orange')\n",
        "        plt.xticks(np.arange(len(models)), models)\n",
        "        plt.ylabel('Performance Metric Value')\n",
        "        plt.title('Model Performance Metrics: MAE and R² (Scaled)')\n",
        "        plt.legend()\n",
        "        plt.tight_layout()\n",
        "        plt.show()\n",
        "\n",
        "\n",
        "# Main workflow\n",
        "if __name__ == \"__main__\":\n",
        "    # Assuming X_train, X_test, y_train, y_test are already prepared\n",
        "    trainer = ModelTrainer(X_train, X_test, y_train, y_test)\n",
        "    trainer.train_random_forest()\n",
        "    trainer.train_linear_regression()\n",
        "    metrics = trainer.get_metrics()\n",
        "    trained_models = trainer.get_models()\n",
        "\n",
        "    # Save models\n",
        "    joblib.dump(trained_models['Random Forest'], 'random_forest_model.pkl')\n",
        "    joblib.dump(trained_models['Linear Regression'], 'linear_regression_model.pkl')\n",
        "\n",
        "    # Predict for a scenario where HBA_NSA increases by 20%\n",
        "    scenario_data = X_test.copy()\n",
        "    scenario_data['HBA_NSA'] *= 1.2\n",
        "    linear_predictions_scenario = trained_models['Linear Regression'].predict(scenario_data)\n",
        "    rf_predictions_scenario = trained_models['Random Forest'].predict(scenario_data)\n",
        "\n",
        "    # Calculate prediction increases\n",
        "    linear_increase = linear_predictions_scenario.mean() - y_test.mean()\n",
        "    rf_increase = rf_predictions_scenario.mean() - y_test.mean()\n",
        "\n",
        "    # Visualize results\n",
        "    models = ['Linear Regression', 'Random Forest']\n",
        "    visualizer = ModelVisualizer()\n",
        "    visualizer.visualize_prediction_increase([linear_increase, rf_increase], [linear_increase, rf_increase], models)\n",
        "    visualizer.visualize_model_performance(metrics, models)"
      ],
      "metadata": {
        "colab": {
          "base_uri": "https://localhost:8080/",
          "height": 1000
        },
        "id": "SchT1FHg4fAP",
        "outputId": "a84e6735-8185-4b03-af62-f79842fa341a"
      },
      "execution_count": null,
      "outputs": [
        {
          "output_type": "display_data",
          "data": {
            "text/plain": [
              "<Figure size 1000x600 with 1 Axes>"
            ],
            "image/png": "[encoded data removed]"
          },
          "metadata": {}
        },
        {
          "output_type": "display_data",
          "data": {
            "text/plain": [
              "<Figure size 1000x600 with 1 Axes>"
            ],
            "image/png": "[encoded data removed]"
          },
          "metadata": {}
        }
      ]
    },
    {
      "cell_type": "markdown",
      "source": [
        "What Can Be Expected in a Creative Predictive Scenario with the Trained Model?\n",
        "\n",
        "**Chart 1: Average vs Manual Increase in Predictions**\n",
        "\n",
        "This chart explores how the models react to a 20% increase in HBA_NSA, comparing the average increase in predictions across all test samples with the increase for a single modified sample.\n",
        "\n",
        "**Linear Regression:** The model's larger increases reflect its higher sensitivity to changes in HBA_NSA. This sensitivity stems from its linear assumption, where changes in features directly influence the target variable.\n",
        "\n",
        "**Random Forest: **The model exhibits more conservative adjustments. Its smaller increases highlight its ability to capture non-linear relationships and interactions between features, leading to more balanced predictions.\n",
        "\n",
        "**Chart 2: Model Performance Metrics (MAE and R²)**\n",
        "\n",
        "This chart evaluates the models' accuracy and ability to explain variance using Mean Absolute Error (MAE) and R² (Coefficient of Determination).\n",
        "\n",
        "**Linear Regression:** Demonstrates slightly better performance, with lower MAE and higher R², making it suitable for simple relationships. However, its sensitivity to feature changes may lead to overestimations in some cases.\n",
        "\n",
        "**Random Forest:** While slightly less precise, it provides more robust and realistic predictions. This is due to its strength in capturing non-linear patterns and feature interactions, making it more dependable for complex scenarios.\n",
        "\n",
        "**Takeaway**\n",
        "\n",
        "**Linear Regression:** Best suited for simple, linear relationships. It excels in straightforward scenarios but may overreact to significant feature changes.\n",
        "\n",
        "**Random Forest:** An excellent choice for capturing complex, non-linear interactions. Its conservative predictions make it ideal for scenarios requiring balanced and reliable outputs."
      ],
      "metadata": {
        "id": "2_qpTny6jIuQ"
      }
    }
  ]
}